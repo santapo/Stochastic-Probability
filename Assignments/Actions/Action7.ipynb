{
 "cells": [
  {
   "cell_type": "markdown",
   "metadata": {},
   "source": [
    "### Phân Phối dừng\n",
    "Phân phối $\\pi =(\\pi_i)_{i\\in I}$ trên không gian trạng thái I được gọi là dừng với ma trận chuyển P nếu\n",
    "\\begin{align*}\n",
    "\\pi =\\pi P,\n",
    "\\end{align*}\n",
    "tức là\n",
    "\\begin{align*}\n",
    "\\pi_i = \\sum_{j\\in I}\\pi_jp_{ij}, \\space \\forall i\\in I.\n",
    "\\end{align*}\n",
    "Giả sử tập trạng thái $I$ chỉ gồm hữu hạn phần tử. Khi đó, nếu tồn tịa $i \\in I$ sao cho\n",
    "\\begin{align*}\n",
    "p_{ij}^{(n)} \\rightarrow \\pi_j \\space khi \\space n \\rightarrow \\infty \\space \\forall j \\in I,\n",
    "\\end{align*}\n",
    "thì $\\pi=(\\pi_j:j\\in I)$ là phân phối dừng. \n",
    "### Phân phối giới hạn\n",
    "Cho một xích Markov tối giản có tính ergodic tồn tại $\\lim_{n\\rightarrow \\infty}P_{ij}^n$ và độc lập với $i$. Phân phối $(\\pi_1,\\pi_2,...,\\pi_n)$ được gọi là phân phối giới hạn (duy nhất) khi:\n",
    "\\begin{align*}\n",
    "\\begin{cases}\n",
    "\\lim_{n\\rightarrow \\infty}P_{ij}^n&=\\pi_j, \\space j \\geq 0, \\\\\n",
    "\\sum_{i=0}^\\infty\\pi_i &= 1\n",
    "\\end{cases}\n",
    "\\end{align*}"
   ]
  },
  {
   "cell_type": "code",
   "execution_count": 57,
   "metadata": {},
   "outputs": [],
   "source": [
    "import numpy as np\n",
    "import pandas as pd\n",
    "import matplotlib.pyplot as plt\n",
    "\n",
    "def LimDistrHist(P,state,n):\n",
    "    stateHist = state\n",
    "    for x in range(n):\n",
    "        state = np.dot(state,P)\n",
    "        stateHist = np.append(stateHist, state, axis=0)\n",
    "        dfDistrHist = pd.DataFrame(stateHist)\n",
    "    dfDistrHist.plot()\n",
    "    plt.show()"
   ]
  },
  {
   "cell_type": "code",
   "execution_count": 58,
   "metadata": {},
   "outputs": [
    {
     "data": {
      "image/png": "[encoded data removed]",
      "text/plain": [
       "<Figure size 432x288 with 1 Axes>"
      ]
     },
     "metadata": {
      "needs_background": "light"
     },
     "output_type": "display_data"
    }
   ],
   "source": [
    "P = np.array([[0.2, 0.7, 0.1],\n",
    "              [0.9, 0.0, 0.1],\n",
    "              [0.2, 0.8, 0.0]])\n",
    "state = np.array([[1.0, 0.0, 0.0]])\n",
    "n = 100\n",
    "LimDistrHist(P,state,n)"
   ]
  },
  {
   "cell_type": "code",
   "execution_count": null,
   "metadata": {},
   "outputs": [],
   "source": []
  }
 ],
 "metadata": {
  "kernelspec": {
   "display_name": "Python 3",
   "language": "python",
   "name": "python3"
  },
  "language_info": {
   "codemirror_mode": {
    "name": "ipython",
    "version": 3
   },
   "file_extension": ".py",
   "mimetype": "text/x-python",
   "name": "python",
   "nbconvert_exporter": "python",
   "pygments_lexer": "ipython3",
   "version": "3.7.6"
  }
 },
 "nbformat": 4,
 "nbformat_minor": 4
}
