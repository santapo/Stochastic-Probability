{
 "cells": [
  {
   "cell_type": "markdown",
   "metadata": {},
   "source": [
    "#### [Nguyễn Trọng Tuấn - 20176898](https://www.facebook.com/ISantaPo)\n",
    "\n",
    "#### Câu 1:\n",
    "\\begin{align*}\n",
    "\\mathbb{P} = \n",
    "    \\begin{bmatrix}\n",
    "    1/3 & 0 & 1/3 & 0 & 0 & 1/3 \\\\\n",
    "    1/2 & 1/4 & 1/4 & 0 & 0 & 0 \\\\\n",
    "    0 & 0 & 0 & 0 & 1 & 0 \\\\\n",
    "    1/4 & 1/4 & 1/4 & 0 & 0 & 1/4 \\\\\n",
    "    0 & 0 & 1 & 0 & 0 & 0 \\\\\n",
    "    0 & 0 & 0 & 0 & 0 & 1\n",
    "    \\end{bmatrix}\n",
    "\\end{align*}\n",
    "\n",
    "Từ ma trận xác suất chuyển trên, ta dễ dàng thấy tồn tại hai lớp liên thông đóng là $\\{2,4\\}$ và $\\{5\\}$. Suy ra, các trạng thái $\\{2,4,5\\}$ đều là hồi quy.  \n",
    "Xét hai trạng thái $\\{0,1\\}$, thấy rằng $\\nexists n \\in \\mathbb{N}$ sao cho:\n",
    "\n",
    "\\begin{align*}\n",
    "    \\begin{cases}\n",
    "    P_{01}^{(n)} > 0 \\\\\n",
    "    P_{10}^{(n)} > 0\n",
    "    \\end{cases}\n",
    "\\end{align*}\n",
    "\n",
    "Suy ra hai trạng thái $0$ và $1$ không liên thông vơi nhau.  \n",
    "Tương tự $0$ không liê thông với $3$ và $3$ không liên thông với $1$.  \n",
    "Ba trạng thái $\\{0,1,3\\}$ thuộc ba phân lớp liên thông khác nhau và không có tính đóng.  \n",
    "Mặt khác, ta thấy $\\forall i \\in \\{0,1,3\\}, \\space \\exists j \\in \\{2,4,5\\} \\space \\mbox{và } m \\geq 1$ sao cho $\\mathbb{P}_i(X_m=j)>0$ và $\\{2,4,5\\}$ là các trạng thái trong các lớp liên thông đóng.  \n",
    "Vậy nên $\\mathbb{P}_i(X_n=i \\mbox{ với vô hạn n }=0)$ hay ba trạng thái $\\{0,1,3\\}$ là trans.\n",
    "\n",
    "#### Câu 2:\n",
    "*(a)*  \n",
    "Trường hợp đơn giản nếu $p_i>0 \\space \\forall i \\in I\\setminus\\{0\\}$  \n",
    "Xét trạng thái $0$ và $i \\in I\\setminus\\{0\\}$:\n",
    "\n",
    "\\begin{align*}\n",
    "    \\begin{cases}\n",
    "    P_{0i} > 0 \\\\\n",
    "    P_{i0}^{(i)} > 0\n",
    "    \\end{cases}\n",
    "    \\quad \\forall i \\in I\\setminus\\{0\\}\n",
    "\\end{align*}\n",
    "\n",
    "Suy ra, xích Markov đã cho là tối giản khi $p_i>0 \\space \\forall i \\in I\\setminus\\{0\\}$  \n",
    "\n",
    "Trường hợp $\\exists i \\in I\\setminus\\{0\\}, \\space p_i=0$  \n",
    "Nếu $\\exists j>i \\in I\\setminus\\{0\\}, p_j>0$ thì $P_{0i}^{(j-i)}>0$ mà $P_{i0}^{(i)} > 0$. Do đó khi $j=n$ hay $p_n>0$ thì xích Markov đã cho vẫn là tối giản.  \n",
    "Ngược lại, nếu $p_n=0$ thì xích Markov đã cho không là tối giản.  \n",
    "**Kết luận:** xích Markov đã cho là tối giản khi và chỉ khi $p_n>0$\n",
    "\n",
    "*(b)*  \n",
    "Ta dễ dàng thấy xích Markov đã cho có tính đóng, nếu thêm điều kiện $p_n>0$ thì xích Markov giờ trở thành một lớp liên thông đóng. Tức là các trạng thái của xích đều là hồi quy. \n",
    "\n",
    "Trường hợp $p_{n-k}=p_{n-k+1}=..=p_n=0, \\space k \\in \\mathbb{N}, k\\leq n$, xích Markov đã cho không phải là tối giản và hình thành $k+2$ lớp liên thông là $\\{0,1,..,n-k-1\\},\\{n-k\\},\\{n-k+1\\}..,\\{n\\}$.  \n",
    "Dễ dàng thấy các trạng thái thuộc lớp liên thông thứ nhất là hồi quy do có tính đóng.  \n",
    "Xét các trạng thái còn lại, ta thấy $\\sum_{n=0}^{infty}P_{ii}^{(n)} = 1 < \\infty$ hay là các trạng thái trans.\n",
    "\n",
    "#### Câu 3:\n"
   ]
  },
  {
   "cell_type": "code",
   "execution_count": 80,
   "metadata": {},
   "outputs": [],
   "source": [
    "import math\n",
    "import numpy as np\n",
    "\n",
    "def transitiveClosure(n,graph):\n",
    "        \n",
    "        reach = np.copy(graph) \n",
    "        for k in range(n): \n",
    "            for i in range(n): \n",
    "                for j in range(n): \n",
    "                    reach[i][j] = reach[i][j] or (reach[i][k] and reach[k][j])\n",
    "        return reach\n",
    "\n",
    "def communicatingClass(n,graph):\n",
    "    result = []\n",
    "    unique_result = []\n",
    "    for i in range(n):\n",
    "        check = np.multiply(reach[i,:],reach[:,i])\n",
    "        if (sum(check)==0):\n",
    "            tmp = [i]\n",
    "        else:\n",
    "            tmp = [i for i in range(6) if check[i]>0]\n",
    "        result.append(tmp)\n",
    "        \n",
    "    for i in result:\n",
    "        if i not in unique_result:\n",
    "            unique_result.append(i)\n",
    "            \n",
    "    return unique_result\n",
    "    \n",
    "\n",
    "# 1 is recurrence, 0 is transient\n",
    "def ClassRecurrence(n,graph):\n",
    "    \n",
    "    flag = [0]*n\n",
    "    reach = transitiveClosure(n,graph)\n",
    "    comClass = CommunicatingClass(n,graph)\n",
    "    for i in range(len(comClass)):\n",
    "        for j in comClass[i]:\n",
    "            reach_j = reach[j,:]\n",
    "            reach_j = [k for k in range(n) if reach_j[k]>0]\n",
    "            if (len(reach_j)>len(comClass[i])):\n",
    "                for k in comClass[i]:\n",
    "                    flag[k] = 0\n",
    "                break\n",
    "            else:\n",
    "                flag[j] = 1\n",
    "    return flag"
   ]
  },
  {
   "cell_type": "code",
   "execution_count": 16,
   "metadata": {},
   "outputs": [],
   "source": [
    "import numpy as np\n",
    "\n",
    "P = np.array([[1/3,0,1/3,0,0,1/3],\n",
    "             [1/2,1/4,1/4,0,0,0],\n",
    "             [0,0,0,0,1,0],\n",
    "             [1/4,1/4,1/4,0,0,1/4],\n",
    "             [0,0,1,0,0,0],\n",
    "             [0,0,0,0,0,1]])\n",
    "G = [[1,2,3],1,[2,3]]"
   ]
  },
  {
   "cell_type": "code",
   "execution_count": 68,
   "metadata": {},
   "outputs": [
    {
     "data": {
      "text/plain": [
       "0"
      ]
     },
     "execution_count": 68,
     "metadata": {},
     "output_type": "execute_result"
    }
   ],
   "source": [
    "result = CommunicatingClass(6,P)\n",
    "len()"
   ]
  },
  {
   "cell_type": "code",
   "execution_count": 81,
   "metadata": {},
   "outputs": [
    {
     "data": {
      "text/plain": [
       "[0, 0, 1, 0, 1, 1]"
      ]
     },
     "execution_count": 81,
     "metadata": {},
     "output_type": "execute_result"
    }
   ],
   "source": [
    "ClassRecurrence(6,P)"
   ]
  },
  {
   "cell_type": "code",
   "execution_count": 44,
   "metadata": {},
   "outputs": [
    {
     "data": {
      "text/plain": [
       "array([[0.33333333, 0.        , 0.33333333, 0.        , 1.        ,\n",
       "        0.33333333],\n",
       "       [0.5       , 0.25      , 0.25      , 0.        , 1.        ,\n",
       "        0.33333333],\n",
       "       [0.        , 0.        , 1.        , 0.        , 1.        ,\n",
       "        0.        ],\n",
       "       [0.25      , 0.25      , 0.25      , 0.        , 1.        ,\n",
       "        0.25      ],\n",
       "       [0.        , 0.        , 1.        , 0.        , 1.        ,\n",
       "        0.        ],\n",
       "       [0.        , 0.        , 0.        , 0.        , 0.        ,\n",
       "        1.        ]])"
      ]
     },
     "execution_count": 44,
     "metadata": {},
     "output_type": "execute_result"
    }
   ],
   "source": [
    "reach = transitiveClosure(6,P)"
   ]
  },
  {
   "cell_type": "code",
   "execution_count": 63,
   "metadata": {},
   "outputs": [],
   "source": [
    "row = reach[1,:]"
   ]
  },
  {
   "cell_type": "code",
   "execution_count": 64,
   "metadata": {},
   "outputs": [],
   "source": [
    "col = reach[:,1]"
   ]
  },
  {
   "cell_type": "code",
   "execution_count": 66,
   "metadata": {},
   "outputs": [
    {
     "data": {
      "text/plain": [
       "array([0.    , 0.0625, 0.    , 0.    , 0.    , 0.    ])"
      ]
     },
     "execution_count": 66,
     "metadata": {},
     "output_type": "execute_result"
    }
   ],
   "source": [
    "check = np.multiply(row,col)\n",
    "check"
   ]
  },
  {
   "cell_type": "code",
   "execution_count": 30,
   "metadata": {},
   "outputs": [],
   "source": [
    "result = []\n",
    "result.append([i for i in range(6) if check[i]>0])"
   ]
  },
  {
   "cell_type": "code",
   "execution_count": 33,
   "metadata": {},
   "outputs": [
    {
     "data": {
      "text/plain": [
       "[1, 1, 1]"
      ]
     },
     "execution_count": 33,
     "metadata": {},
     "output_type": "execute_result"
    }
   ],
   "source": [
    "ex = [1,1,1]\n",
    "ex"
   ]
  },
  {
   "cell_type": "code",
   "execution_count": 69,
   "metadata": {},
   "outputs": [
    {
     "data": {
      "text/plain": [
       "[0, 0, 0, 0]"
      ]
     },
     "execution_count": 69,
     "metadata": {},
     "output_type": "execute_result"
    }
   ],
   "source": [
    "[0]"
   ]
  }
 ],
 "metadata": {
  "kernelspec": {
   "display_name": "Python 3",
   "language": "python",
   "name": "python3"
  },
  "language_info": {
   "codemirror_mode": {
    "name": "ipython",
    "version": 3
   },
   "file_extension": ".py",
   "mimetype": "text/x-python",
   "name": "python",
   "nbconvert_exporter": "python",
   "pygments_lexer": "ipython3",
   "version": "3.7.6"
  }
 },
 "nbformat": 4,
 "nbformat_minor": 4
}
