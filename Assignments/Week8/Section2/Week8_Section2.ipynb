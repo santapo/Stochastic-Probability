{
 "cells": [
  {
   "cell_type": "markdown",
   "metadata": {},
   "source": [
    "##### [Nguyễn Trọng Tuấn - 20176898](https://www.facebook.com/ISantaPo)\n",
    "\n",
    "#### Câu 1:\n",
    "*(a)*  \n",
    "Ta có quá trình Poisson $\\{N(t)\\}_{t \\geq 0} \\sim P(0.2)$  \n",
    "Suy ra gia số $N(t+10)-N(t) \\sim P(2)$  \n",
    "Xác suất có đúng 2 người đến trong khoảng thời gian từ $0$ đến $10$ được tính bằng công thức:  \n",
    "\n",
    "\\begin{align*}\n",
    "P(N(10)-N(0)=2) = \\frac{2^2}{2!}e^{-2} = 2e^{-2}\n",
    "\\end{align*}\n",
    "\n",
    "*(b)*  \n",
    "Xác suất để người đầu tiên đến cửa hàng trước thời điểm $3$ giờ, biết trong $(0,5)$ có 2 người đến được tính bằng công thức:  \n",
    "\n",
    "\\begin{align*}\n",
    "P(N(3)-N(0) \\geq 1 | N(5)-N(0)=2) &= 1 - P(N(3)-N(0) = 0| N(5)-N(0)=2) \\\\\n",
    "                                &= 1 - \\frac{P(N(3)-N(0)=0 \\cap N(5)-N(0)=2)}{P(N(5)-N(0)=2)} \\\\\n",
    "                                &= 1 - \\frac{P(N(5)-N(3)=2)}{P(N(5)-N(0)=2)} \\\\\n",
    "                                &= 1 - \\frac{\\frac{0.4^2}{2!}e^{-2}}{\\frac{1^2}{2!}e^{-2}} \\\\\n",
    "                                &= 0.84\n",
    "\\end{align*}\n",
    "\n",
    "#### Câu 2:  \n"
   ]
  },
  {
   "cell_type": "code",
   "execution_count": null,
   "metadata": {},
   "outputs": [],
   "source": []
  }
 ],
 "metadata": {
  "kernelspec": {
   "display_name": "Python 3",
   "language": "python",
   "name": "python3"
  },
  "language_info": {
   "codemirror_mode": {
    "name": "ipython",
    "version": 3
   },
   "file_extension": ".py",
   "mimetype": "text/x-python",
   "name": "python",
   "nbconvert_exporter": "python",
   "pygments_lexer": "ipython3",
   "version": "3.7.6"
  }
 },
 "nbformat": 4,
 "nbformat_minor": 4
}
