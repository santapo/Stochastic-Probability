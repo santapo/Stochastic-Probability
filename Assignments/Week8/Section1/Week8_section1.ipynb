{
 "cells": [
  {
   "cell_type": "markdown",
   "metadata": {},
   "source": [
    "##### [Nguyễn Trọng Tuấn - 20176898](https://www.facebook.com/ISantaPo)\n",
    "\n",
    "#### Câu 1:\n",
    "\\begin{align*}\n",
    "X_1 \\sim \\beta(n_1,p_1) \\implies P(X_1=k) = C_{n_1}^{k}p_1^k(1-p_1)^{n_1-k} \\\\\n",
    "X_2 \\sim \\beta(n_2,p_2) \\implies P(X_2=k) = C_{n_2}^{k}p_2^k(1-p_1)^{n_2-k}\n",
    "\\end{align*}\n",
    "\n",
    "Có $Z = X_1 + X_2$ nên ta suy ra: \n",
    "\n",
    "\\begin{align*}\n",
    "P(Z=z) = \\sum_{k=0}^{\\infty}P(X_1=k)P(X_2=z-k)\n",
    "\\end{align*}\n",
    "\n",
    "Trường hợp $z\\leq 0$ dễ dàng thấy $P(Z=z)=0$\n",
    "Trường hợp $z \\geq n_1 + n_2$ dễ dàng thấy $P(Z=z)=0$  \n",
    "Trường hợp $0<z\\leq n_1+n_2$ thì $P(Z=z)=\\sum_{k=0}^{\\infty}C_{n_1}^{k}p_1^k(1-p_1)^{n_1-k}C_{n_2}^{z-k}p_1^{z-k}(1-p_2)^{n_2-z+k}$\n",
    "\n",
    "#### Câu 2:  \n",
    "\\begin{align*}\n",
    "X_1 \\sim \\textit{U}(0,1) \\implies \\textit{f}_{X_1} =\n",
    "    \\begin{cases}\n",
    "    1 \\quad if \\space X \\in [0,1] \\\\\n",
    "    0 \\quad ortherwise\n",
    "    \\end{cases} \\\\\n",
    "X_2 \\sim \\textit{U}(0,2) \\implies \\textit{f}_{X_2} =\n",
    "    \\begin{cases}\n",
    "    \\frac{1}{2} \\quad if \\space X \\in [0,2] \\\\\n",
    "    0 \\quad ortherwise\n",
    "    \\end{cases}\n",
    "\\end{align*}\n",
    "\n",
    "Có $Z = X_1 + X_2$ nên ta suy ra: \n",
    "\n",
    "\\begin{align*}\n",
    "\\textit{f}_Z(z) &=\\int_{-\\infty}^{+\\infty} {f}_{X_1}(z-x){f}_{X_2}(x)dx \\\\\n",
    "                &= \n",
    "    \\begin{cases}\n",
    "    \\frac{1}{2}z \\quad if \\space z \\in [0,1) \\\\\n",
    "    \\frac{1}{2} \\quad if \\space z \\in [1,2) \\\\\n",
    "    \\frac{3}{2} - \\frac{z}{2} \\quad \\space z \\in [2,3] \\\\\n",
    "    0 \\quad ortherwise\n",
    "    \\end{cases}\n",
    "\\end{align*}\n",
    "\n",
    "#### Câu 3:"
   ]
  },
  {
   "cell_type": "code",
   "execution_count": 1,
   "metadata": {},
   "outputs": [],
   "source": [
    "import matplotlib.pyplot as plt\n",
    "import numpy as np\n",
    "import scipy.stats as stats\n",
    "from scipy import signal"
   ]
  },
  {
   "cell_type": "code",
   "execution_count": 21,
   "metadata": {},
   "outputs": [],
   "source": [
    "uniformDist1 = stats.expon(0.01)\n",
    "uniformDist2 = stats.expon(0.02)\n",
    "delta = 1e-4\n",
    "bigGrid = np.arange(-5,5,delta)"
   ]
  },
  {
   "cell_type": "code",
   "execution_count": 22,
   "metadata": {},
   "outputs": [
    {
     "name": "stdout",
     "output_type": "stream",
     "text": [
      "Integral over uniform pdf1: 0.9931436557464691\n"
     ]
    }
   ],
   "source": [
    "pdf1 = uniformDist1.pdf(bigGrid)\n",
    "print(\"Integral over uniform pdf1: \"+str(np.trapz(pdf1, bigGrid)))"
   ]
  },
  {
   "cell_type": "code",
   "execution_count": 23,
   "metadata": {},
   "outputs": [
    {
     "name": "stdout",
     "output_type": "stream",
     "text": [
      "Integral over uniform pdf2: 0.9930752508410199\n"
     ]
    }
   ],
   "source": [
    "pdf2 = uniformDist2.pdf(bigGrid)\n",
    "print(\"Integral over uniform pdf2: \"+str(np.trapz(pdf2, bigGrid)))"
   ]
  },
  {
   "cell_type": "code",
   "execution_count": 24,
   "metadata": {},
   "outputs": [
    {
     "name": "stdout",
     "output_type": "stream",
     "text": [
      "Integral over convoluted pdf: 9584.432028136349\n"
     ]
    }
   ],
   "source": [
    "convPdf = signal.fftconvolve(pdf1,pdf2,'same')\n",
    "print(\"Integral over convoluted pdf: \"+str(np.trapz(convPdf, bigGrid)))"
   ]
  },
  {
   "cell_type": "code",
   "execution_count": 25,
   "metadata": {},
   "outputs": [
    {
     "data": {
      "image/png": "[encoded data removed]",
      "text/plain": [
       "<Figure size 432x288 with 1 Axes>"
      ]
     },
     "metadata": {
      "needs_background": "light"
     },
     "output_type": "display_data"
    }
   ],
   "source": [
    "plt.plot(bigGrid,pdf1, label='pdf1')\n",
    "plt.plot(bigGrid,pdf2, label='pdf2')\n",
    "plt.plot(bigGrid,convPdf, label='Sum')\n",
    "plt.legend(loc='best')\n",
    "plt.suptitle('PDFs')\n",
    "plt.show()"
   ]
  },
  {
   "cell_type": "code",
   "execution_count": null,
   "metadata": {},
   "outputs": [],
   "source": []
  }
 ],
 "metadata": {
  "kernelspec": {
   "display_name": "Python 3",
   "language": "python",
   "name": "python3"
  },
  "language_info": {
   "codemirror_mode": {
    "name": "ipython",
    "version": 3
   },
   "file_extension": ".py",
   "mimetype": "text/x-python",
   "name": "python",
   "nbconvert_exporter": "python",
   "pygments_lexer": "ipython3",
   "version": "3.7.6"
  }
 },
 "nbformat": 4,
 "nbformat_minor": 4
}
