{
 "cells": [
  {
   "cell_type": "markdown",
   "metadata": {},
   "source": [
    "#### [Nguyễn Trọng Tuấn - 20176898](https://www.facebook.com/ISantaPo)\n",
    "$\\alpha = 0.23 ,\\space \\beta = 0.11$ \n",
    "\n",
    "#### Câu 1:\n",
    "\\begin{align*}\n",
    "\\mathbb{P} = \n",
    "    \\begin{bmatrix}\n",
    "    1 & 0 & 0 & 0 \\\\\n",
    "    0.2 & 0.4 & 0.2 & 0.2 \\\\\n",
    "    0.3 & 0.3 & 0.2 & 0.2 \\\\\n",
    "    0.5 & 0 & 0.3 & 0.2 \n",
    "    \\end{bmatrix}\n",
    "\\end{align*}\n",
    "\n",
    "*(a)*  \n",
    "Ta thấy $(h_0^0,h_1^0,h_2^0,h_3^0)$ là nghiệm của hệ phương trình\n",
    "\n",
    "\\begin{align*}\n",
    "    \\begin{cases}\n",
    "    h_0^0 = 1 \\\\\n",
    "    h_1^0 = h_0^0P_{10} + h_1^0P_{11} + h_2^0P_{12} + h_3^0P_{13} \\\\\n",
    "    h_2^0 = h_0^0P_{20} + h_1^0P_{21} + h_2^0P_{22} + h_2^0P_{23} \\\\\n",
    "    h_3^0 = h_0^0P_{30} + h_1^0P_{31} + h_2^0P_{32} + h_3^0P_{33} \\\\\n",
    "    \\end{cases}\n",
    "\\end{align*}\n",
    "\n",
    "Thay số, giải hệ phương trình trên ta được nghiệm là $(1,1,1,1)$  \n",
    "\n",
    "*(b)*  \n",
    "Ta thấy $(k_1^0,k_2^0,k_3^0)$ là nghiệm của hệ phương trình\n",
    "\n",
    "\\begin{align*}\n",
    "    \\begin{cases}\n",
    "    k_1^0 = k_1^0P_{11} + k_2^0P_{12} + k_3^0P_{13} + 1 \\\\\n",
    "    k_2^0 = k_1^0P_{21} + k_2^0P_{22} + k_2^0P_{23} + 1 \\\\\n",
    "    k_3^0 = k_1^0P_{31} + k_2^0P_{32} + k_3^0P_{33} + 1 \\\\\n",
    "    \\end{cases}\n",
    "\\end{align*}\n",
    "\n",
    "Giải hệ phương trình trên ta được nghiệm $(3.546,3.191,2.446)$\n",
    "\n",
    "#### Câu 2:  \n",
    "*(a)*  \n",
    "Xác suất con chột buộc vào ô $i$ chỉ phụ thuộc vào vị trị hiện tại của $i$ (số ô kề với ô hiện tại) mà không phụ thuộc vào vị trị của con chuột trong quá khử. Tức là  \n",
    "\n",
    "\\begin{align*}\n",
    "P(X_{n+1}=i_{n+1}|X_n=i_n..X_0=i_0) = P(X_{n+1}=i_{n+1}|X_n=i_n)\n",
    "\\end{align*}\n",
    "\n",
    "Vậy $(X_n)_{n\\geq 0}$ là xích Markov  \n",
    "\n",
    "*(b)*  \n",
    "\\begin{align*}\n",
    "P_{ij} = P(X_{n+1}|X_n) = \n",
    "    \\begin{cases}\n",
    "    \n",
    "    \\end{cases}\n",
    "\\end{align*}"
   ]
  }
 ],
 "metadata": {
  "kernelspec": {
   "display_name": "Python 3",
   "language": "python",
   "name": "python3"
  },
  "language_info": {
   "codemirror_mode": {
    "name": "ipython",
    "version": 3
   },
   "file_extension": ".py",
   "mimetype": "text/x-python",
   "name": "python",
   "nbconvert_exporter": "python",
   "pygments_lexer": "ipython3",
   "version": "3.7.6"
  }
 },
 "nbformat": 4,
 "nbformat_minor": 4
}
