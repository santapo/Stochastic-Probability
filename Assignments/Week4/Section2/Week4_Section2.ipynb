{
 "cells": [
  {
   "cell_type": "markdown",
   "metadata": {},
   "source": [
    "#### [Nguyễn Trọng Tuấn - 20176898](https://www.facebook.com/ISantaPo)\n",
    "\n",
    "#### Câu 1:\n",
    "\\begin{align*}\n",
    "\\mathbb{P} = \n",
    "    \\begin{bmatrix}\n",
    "    0 & 0.5 & 0 & 0.5 \\\\\n",
    "    0.5 & 0 & 0.5 & 0 \\\\\n",
    "    0 & 0.5 & 0 & 0.5 \\\\\n",
    "    0.5 & 0 & 0.5 & 0 \\\\\n",
    "    \\end{bmatrix}\n",
    "\\end{align*}\n",
    "\n",
    "*(a)*  \n",
    "Xét hai trạng thái $\\{0,1\\}$ có:\n",
    "\\begin{align*}\n",
    "    \\begin{cases}\n",
    "    P_01 = 0.5 > 0 \\\\\n",
    "    P_10 = 0.5 > 0\n",
    "    \\end{cases}\n",
    "    \\implies 1 \\leftrightarrow 0\n",
    "\\end{align*}\n",
    "\n",
    "Xét hai trạng thái $\\{1,2\\}$ có:\n",
    "\\begin{align*}\n",
    "    \\begin{cases}\n",
    "    P_12 = 0.5 > 0 \\\\\n",
    "    P_21 = 0.5 > 0\n",
    "    \\end{cases}\n",
    "    \\implies 1 \\leftrightarrow 2\n",
    "\\end{align*}\n",
    "\n",
    "Xét hai trạng thái $\\{2,3\\}$ có:\n",
    "\\begin{align*}\n",
    "    \\begin{cases}\n",
    "    P_23 = 0.5 > 0 \\\\\n",
    "    P_32 = 0.5 > 0\n",
    "    \\end{cases}\n",
    "    \\implies 2 \\leftrightarrow 3\n",
    "\\end{align*}\n",
    "\n",
    "Vậy xích Markov đã cho là tối giản.\n",
    "\n",
    "Ta xét $d(1)$, có: $P_{11}=0,P_{11}^{(2)}=0.5>0,P_{11}^{(3)}=0,P_{11}^{(4)}=0.5>0$\n",
    "Bằng quy nạp ta chứng minh được $P_{11}^{(2n)}>0 \\space \\forall n \\in \\mathbb{N}^*$\n",
    "Suy ra $d(1) = GCD{2,4,...,2n}=2 \\space \\forall n \\in \\mathbb{N}^*$\n",
    "Mà xích Markov là tối giản nên chu kỳ của tất cả trạng thái đều bằng nhau và bằng $2$.\n",
    "\n",
    "*(b)*  \n",
    "Để tìm xác suất để con châu chấu quay trở lại vị trí xuất phát sau $100$ bước nhảy ta đi tính $P_{ii}^100$.  \n",
    "Bằng quy nạp ta có thể chứng minh được $\\mathbb{P}^{(2n)} = \\mathbb{P}^{2}$, nên ta có:\n",
    "\n",
    "\\begin{align*}\n",
    "\\mathbb{P} = \n",
    "    \\begin{bmatrix}\n",
    "    0.5 & 0 & 0.5 & 0 \\\\\n",
    "    0 & 0.5 & 0 & 0.5 \\\\\n",
    "    0.5 & 0 & 0.5 & 0 \\\\\n",
    "    0 & 0.5 & 0 & 0.5 \\\\\n",
    "    \\end{bmatrix}\n",
    "\\end{align*}\n",
    "\n",
    "#### Câu 2:\n",
    "Ta ký hiệu mặt ngửa là $1$ mật sấp là $0$. Đặt $X_n$ là kết quả lần tung thứ $n$, ta được $(X_n)_{n \\geq 0}$ là một xích Markov thuần nhất.  \n",
    "Gọi $Y_n = (X_n,X_{n-1},X_{n-2}),n\\geq 2$ thành lập được một xích Markov thuần nhất với không gian trạng thái $\\mathbb{I} = \\{(0,0,0),(0,0,1),(0,1,0),(1,0,0),(0,1,1),(1,1,0),(1,0,1),(1,1,1)\\}$. Ta gọi tên trạng thái theo số thứ tự từ $0$ đến $7$  \n",
    "Theo giả thiết bài toán, nếu $Y_n=(1,1,1)$ thì dừng tung đồng xu, tức là $(1,1,1)$ là trạng thái hấp thụ của xích Markov $(Y_n)_{n\\geq 2}$.  \n",
    "Ma trận xác suất chuyển của $(Y_n)_{n \\geq 2}$ là:\n",
    "\n",
    "\\begin{align*}\n",
    "\\mathbb{P} = \n",
    "    \\begin{bmatrix}\n",
    "    0.5 & 0.5 & 0 & 0 & 0 & 0 & 0 & 0 \\\\\n",
    "    0 & 0 & 0.5 & 0 & 0.5 & 0 & 0 & 0 \\\\\n",
    "    0 & 0 & 0 & 0.5 & 0 & 0 & 0.5 & 0 \\\\\n",
    "    0.5 & 0.5 & 0 & 0 & 0 & 0 & 0 & 0 \\\\\n",
    "    0 & 0 & 0 & 0 & 0 & 0.5 & 0 & 0.5 \\\\\n",
    "    0 & 0 & 0 & 0.5 & 0 & 0 & 0.5 & 0 \\\\\n",
    "    0 & 0 & 0.5 & 0 & 0.5 & 0 & 0 & 0 \\\\\n",
    "    0 & 0 & 0 & 0 & 0 & 0 & 0 & 1 \\\\\n",
    "    \\end{bmatrix}\n",
    "\\end{align*}\n",
    "\n",
    "Số lần trung bình tung đồng xu cho tới khi xuất hiện mẫu NSN xuất hiện là nghiệm không âm tối tiểu của hệ phương trình sau:\n",
    "\n",
    "\\begin{align*}\n",
    "    \\begin{cases}\n",
    "    k_7 = 0 \\\\\n",
    "    k_0 = 1 + \\frac{1}{2} (k_0+k_1) \\\\\n",
    "    k_1 = 1 + \\frac{1}{2} (k_2+k_4) \\\\\n",
    "    k_2 = 1 + \\frac{1}{2} (k_3+k_6) \\\\\n",
    "    k_3 = 1 + \\frac{1}{2} (k_0+k_1) \\\\\n",
    "    k_4 = 1 + \\frac{1}{2} (k_5+k_7) \\\\\n",
    "    k_5 = 1 + \\frac{1}{2} (k_3+k_6) \\\\\n",
    "    k_6 = 1 + \\frac{1}{2} (k_2+k_4) \\\\\n",
    "    \\end{cases}\n",
    "\\end{align*}\n",
    "\n",
    "Ta ra được nghiệm $k = (8,6,8,10,8,6,10,0)$. Suy ra trung bình số lần gieo đồng su để đạt được mục đích là $\\frac{\\sum_i k_i}{8}+3=10$\n",
    "#### Câu 3:\n",
    "\\begin{align*}\n",
    "\\mathbb{P} = \n",
    "    \\begin{bmatrix}\n",
    "    0.3 & 0.15 & 0 & 0.55 & 0 \\\\\n",
    "    0.2 & 0.55 & 0.1 & 0.1 & 0.05 \\\\\n",
    "    0.05 & 0.3 & 0.55 & 0 & 0.1 \\\\\n",
    "    0 & 0 & 0 & 1 & 0 \\\\\n",
    "    0 & 0 & 0 & 0 & 1\n",
    "    \\end{bmatrix}\n",
    "\\end{align*}\n",
    "\n",
    "*(a)*  \n",
    "Ta đặt các trạng thái:\n",
    "- 0: ở phòng thông thường\n",
    "- 1: ở phòng đặc biệt\n",
    "- 2: ở phòng tăng cường\n",
    "- 3: ra viện\n",
    "- 4: reset game  \n",
    "\n",
    "Xác suất bệnh nhân ở phòng chăm sóc tăng cường mà sau 2 ngày khỏi bệnh là $P_{22}^2=0.0575$\n",
    "\n",
    "*(b)*  \n",
    "Mô hình hóa bài toán ta thấy tập hút $A=\\{0,1,3,4\\}$. Ta đặt $T = \\min\\{n \\geq 0,X_n=2\\}$ thì số ngày trung bình bệnh nhân ở phòng tăng cường tiếp tục ở phòng tăng cường là $k^A_2$.  \n",
    "Sử dụng phương pháp phân tích bước thứ nhất, ta được:\n",
    "\n",
    "\\begin{align*}\n",
    "    \\begin{cases}\n",
    "    k^A_i = 0 & \\mbox{với } i \\in A \\\\\n",
    "    k^A_2 = 1 + 0.55k^A_2 &\n",
    "    \\end{cases}\n",
    "\\end{align*}\n",
    "\n",
    "Từ hệ trên ta được $k^A_2 = \\frac{20}{9}$\n",
    "\n",
    "*(c)*  \n",
    "\n",
    "#### Câu 4:"
   ]
  },
  {
   "cell_type": "code",
   "execution_count": 11,
   "metadata": {},
   "outputs": [],
   "source": [
    "import numpy as np\n",
    "\n",
    "def computeK(n,P):\n",
    "    A = np.copy(P)\n",
    "    count = 0\n",
    "    \n",
    "    for i in range(n):\n",
    "        if (P[i,i]==1):\n",
    "            A = np.delete(A,i,0)\n",
    "            A = np.delete(A,i,1)\n",
    "            count += 1\n",
    "            \n",
    "    A = A - np.identity(n-count)\n",
    "    \n",
    "    return np.linalg.solve(A,-np.ones(n-count))\n"
   ]
  },
  {
   "cell_type": "code",
   "execution_count": 4,
   "metadata": {},
   "outputs": [
    {
     "data": {
      "text/plain": [
       "array([[0.12  , 0.1275, 0.015 , 0.73  , 0.0075],\n",
       "       [0.175 , 0.3625, 0.11  , 0.265 , 0.0875],\n",
       "       [0.1025, 0.3375, 0.3325, 0.0575, 0.17  ],\n",
       "       [0.    , 0.    , 0.    , 1.    , 0.    ],\n",
       "       [0.    , 0.    , 0.    , 0.    , 1.    ]])"
      ]
     },
     "execution_count": 4,
     "metadata": {},
     "output_type": "execute_result"
    }
   ],
   "source": [
    "P = np.array([[0.3, 0.15,0,0.55,0],\n",
    "             [0.2,0.55,0.1,0.1,0.05],\n",
    "             [0.05,0.3,0.55,0,0.1],\n",
    "             [0,0,0,1,0],\n",
    "             [0,0,0,0,1]])\n",
    "np.linalg.matrix_power(P,2)"
   ]
  },
  {
   "cell_type": "code",
   "execution_count": 3,
   "metadata": {},
   "outputs": [],
   "source": [
    "import numpy as np\n",
    "\n",
    "P = np.array([[0,0.5,0,0.5],\n",
    "             [0.5,0,0.5,0],\n",
    "             [0,0.5,0,0.5],\n",
    "             [0.5,0,0.5,0]])"
   ]
  },
  {
   "cell_type": "code",
   "execution_count": 14,
   "metadata": {},
   "outputs": [],
   "source": [
    "P = np.array([[0.5,0.5,0,0,0,0,0,0],\n",
    "            [0,0,0.5,0,0.5,0,0,0],\n",
    "    [0,0,1,0,0,0,0,0],\n",
    "    [0.5,0.5,0,0,0,0,0,0],\n",
    "    [0,0,0,0,0,0.5,0,0.5],\n",
    "    [0,0,0,0.5,0,0,0.5,0],\n",
    "    [0,0,0.5,0,0.5,0,0,0],\n",
    "    [0,0,0,0,0,0.5,0,0.5]])"
   ]
  },
  {
   "cell_type": "code",
   "execution_count": 15,
   "metadata": {},
   "outputs": [
    {
     "data": {
      "text/plain": [
       "array([ 8.,  6.,  8., 10.,  8.,  6., 10.])"
      ]
     },
     "execution_count": 15,
     "metadata": {},
     "output_type": "execute_result"
    }
   ],
   "source": [
    "computeKi(8,P,2)"
   ]
  }
 ],
 "metadata": {
  "kernelspec": {
   "display_name": "Python 3",
   "language": "python",
   "name": "python3"
  },
  "language_info": {
   "codemirror_mode": {
    "name": "ipython",
    "version": 3
   },
   "file_extension": ".py",
   "mimetype": "text/x-python",
   "name": "python",
   "nbconvert_exporter": "python",
   "pygments_lexer": "ipython3",
   "version": "3.7.6"
  }
 },
 "nbformat": 4,
 "nbformat_minor": 4
}
