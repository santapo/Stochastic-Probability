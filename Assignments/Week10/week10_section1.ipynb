{
 "cells": [
  {
   "cell_type": "markdown",
   "metadata": {},
   "source": [
    "##### [Nguyễn Trọng Tuấn - 20176898](https://www.facebook.com/ISantaPo)\n",
    "\n",
    "#### Câu 2.10: \n",
    "\\begin{align*}\n",
    "P(M>\\sum_{i=1}^nX_i - M) &= \\sum_{j=1}^nP(M>\\sum_{i=1}^nX_i - M \\cup M=X_j) \\\\\n",
    "                        &= \\sum_{j=1}^nP(X_j>\\sum_{i=1,i \\neq j}^nX_i) \\\\\n",
    "                        &= \\sum_{j=1}^n \\int_{0}^{\\infty}P(X_j>t)f_{\\sum_{i=1,i \\neq j}^nX_i}(t)dt \\\\\n",
    "                        &= \\sum_{j=1}^n \\int_{0}^{\\infty}e^{-\\lambda t} \\frac{\\lambda^{n-1} t^{n-2}}{(n-2)!}e^{-\\lambda t}dt \\\\\n",
    "                        &= \\sum_{j=1}^n \\frac{\\lambda^{n-1}}{(n-2)!} \\int_{0}^{\\infty} t^{n-2} e^{-2\\lambda t}dt \\\\\n",
    "                        &= \\sum_{j=1}^n \\frac{\\lambda^{n-1}}{(n-2)!} \\int_{0}^{\\infty} \\frac{u^{n-2}}{(2\\lambda)^{n-1}} e^{-u}du \\\\\n",
    "                        &= \\sum_{j=1}^n \\frac{\\lambda^{n-1}}{(n-2)!} \\frac{(n-2)!}{(2\\lambda)^{n-1}} \\\\\n",
    "                        &= \\sum_{j=1}^n \\frac{1}{2^{n-1}} \\\\\n",
    "                        &= \\frac{n}{2^{n-1}} \\quad \\mbox{(đpcm)}\n",
    "\\end{align*}\n",
    "\n",
    "#### Câu 2.11:\n",
    "\n"
   ]
  }
 ],
 "metadata": {
  "kernelspec": {
   "display_name": "Python 3",
   "language": "python",
   "name": "python3"
  },
  "language_info": {
   "codemirror_mode": {
    "name": "ipython",
    "version": 3
   },
   "file_extension": ".py",
   "mimetype": "text/x-python",
   "name": "python",
   "nbconvert_exporter": "python",
   "pygments_lexer": "ipython3",
   "version": "3.7.6"
  }
 },
 "nbformat": 4,
 "nbformat_minor": 4
}
