{
 "cells": [
  {
   "cell_type": "markdown",
   "metadata": {},
   "source": [
    "##### [Nguyễn Trọng Tuấn - 20176898](https://www.facebook.com/ISantaPo)\n",
    "\n",
    "#### Câu 2.10: \n",
    "\\begin{align*}\n",
    "P(M>\\sum_{i=1}^nX_i - M) &= \\sum_{j=1}^nP(M>\\sum_{i=1}^nX_i - M \\cup M=X_j) \\\\\n",
    "                        &= \\sum_{j=1}^nP(X_j>\\sum_{i=1,i \\neq j}^nX_i) \\\\\n",
    "                        &= \\sum_{j=1}^n \\int_{0}^{\\infty}P(X_j>t)f_{\\sum_{i=1,i \\neq j}^nX_i}(t)dt \\\\\n",
    "                        &= \\sum_{j=1}^n \\int_{0}^{\\infty}e^{-\\lambda t} \\frac{\\lambda^{n-1} t^{n-2}}{(n-2)!}e^{-\\lambda t}dt \\\\\n",
    "                        &= \\sum_{j=1}^n \\frac{\\lambda^{n-1}}{(n-2)!} \\int_{0}^{\\infty} t^{n-2} e^{-2\\lambda t}dt \\\\\n",
    "                        &= \\sum_{j=1}^n \\frac{\\lambda^{n-1}}{(n-2)!} \\int_{0}^{\\infty} \\frac{u^{n-2}}{(2\\lambda)^{n-1}} e^{-u}du \\\\\n",
    "                        &= \\sum_{j=1}^n \\frac{\\lambda^{n-1}}{(n-2)!} \\frac{(n-2)!}{(2\\lambda)^{n-1}} \\\\\n",
    "                        &= \\sum_{j=1}^n \\frac{1}{2^{n-1}} \\\\\n",
    "                        &= \\frac{n}{2^{n-1}} \\quad \\mbox{(đpcm)}\n",
    "\\end{align*}\n",
    "\n",
    "#### Câu 2.11:\n",
    "Ta xét các điều kiện để ${X_s(t)}_{t \\geq 0}$ là quá trình Poisson không thuần nhất với hàm cường độ là $h(t),t \\geq 0$:  \n",
    "- Điều kiện 1:\n",
    "\n",
    "\\begin{align*}\n",
    "X_s(0)=X_0(m(0))=X_0(0)=0\n",
    "\\end{align*}\n",
    "\n",
    "- Điều kiện 2: Ta thấy $X_s(t)=X_0(m(t))$ mà ${X_0(t)}_{t \\geq 0}$ có gia số độc lập. Do đó mà ${X_s(t)}_{t \\geq 0}$ cũng có gia số độc lập.  \n",
    "\n",
    "- Điều kiện 3:\n",
    "\n",
    "\\begin{align*}\n",
    "P(X_s(t+k)-X_s(t)=1) &= P(X_0(m(t+k))-X_0(m(t))=1) \\\\\n",
    "                    &= P(X_0(int_0^{t+k}h(s)ds)-X_0(\\int_0^{t}h(s)ds)) \\\\\n",
    "                    &= \\lambda \\int_t^{t+k}h(s)ds + o(k)\n",
    "\\end{align*}\n",
    "\n",
    "- Điều kiện 4: Vì $X_s(t)=X_0(m(t))$ mà ${X_0(t)}_{t \\geq 0}$ là một quá trình Poisson nên ta có:\n",
    "\n",
    "\\begin{align*}\n",
    "P(X_s(t+k)-X_s(t) \\geq 2) \\leq P(X_0(t+k)-X_0(t) \\geq 2) = o(k)\n",
    "\\end{align*}\n",
    "\n",
    "Vậ $$"
   ]
  }
 ],
 "metadata": {
  "kernelspec": {
   "display_name": "Python 3",
   "language": "python",
   "name": "python3"
  },
  "language_info": {
   "codemirror_mode": {
    "name": "ipython",
    "version": 3
   },
   "file_extension": ".py",
   "mimetype": "text/x-python",
   "name": "python",
   "nbconvert_exporter": "python",
   "pygments_lexer": "ipython3",
   "version": "3.7.6"
  }
 },
 "nbformat": 4,
 "nbformat_minor": 4
}
