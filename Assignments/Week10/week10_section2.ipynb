{
 "cells": [
  {
   "cell_type": "markdown",
   "metadata": {},
   "source": [
    "##### [Nguyễn Trọng Tuấn - 20176898](https://www.facebook.com/ISantaPo)\n",
    "\n",
    "#### Câu 2.1:\n",
    "\\begin{align*}\n",
    "P(N(10)-N(0)=2) &= \\frac{(0.3 \\times 10)^2}{2!}e^{-0.3 \\times 10} \\\\\n",
    "                &= \\frac{9}{2}e^{-3}\n",
    "\\end{align*}\n",
    "\n",
    "#### Câu 2.2\n",
    "\\begin{align*}\n",
    "P(N(1) \\geq 1)| N(5)-N(0) =2) &= 1 - P(N(1)<1|N(5)-N(0)=2) \\\\\n",
    "                            &= 1 - P(N(1)=0) \\\\\n",
    "                            &= 1 - \\frac{0.15^0}{0!}e^{-0.15} \\\\\n",
    "                            &= 1-e^{-0.15}\n",
    "\\end{align*}\n",
    "\n",
    "#### Câu 2.7\n",
    "\\begin{align*}\n",
    "S_4 \\sim Exp(\\lambda) \\implies E(S_4)=\\frac{1}{\\lambda} \\\\\n",
    "E(S_4|X(1)=2)=E(S_4|S_1+S_2<1)=E(S_4)=\\frac{1}{\\lambda} \\\\\n",
    "E(X(4)-X(2)|X(1)=3)\n",
    "\\end{align*}"
   ]
  }
 ],
 "metadata": {
  "kernelspec": {
   "display_name": "Python 3",
   "language": "python",
   "name": "python3"
  },
  "language_info": {
   "codemirror_mode": {
    "name": "ipython",
    "version": 3
   },
   "file_extension": ".py",
   "mimetype": "text/x-python",
   "name": "python",
   "nbconvert_exporter": "python",
   "pygments_lexer": "ipython3",
   "version": "3.7.6"
  }
 },
 "nbformat": 4,
 "nbformat_minor": 4
}
