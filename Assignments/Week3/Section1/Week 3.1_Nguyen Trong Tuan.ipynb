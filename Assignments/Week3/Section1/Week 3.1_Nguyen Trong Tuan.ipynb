{
 "cells": [
  {
   "cell_type": "markdown",
   "metadata": {},
   "source": [
    "#### [Nguyễn Trọng Tuấn - 20176898](https://www.facebook.com/ISantaPo)\n",
    "$\\alpha = 0.23 ,\\space \\beta = 0.11$ \n",
    "\n",
    "#### Câu 1:\n",
    "\\begin{align*}\n",
    "\\mathbb{P} = \n",
    "    \\begin{bmatrix}\n",
    "    1/2 & 1/2 & 0 \\\\\n",
    "    1/3 & 1/3 & 1/3 \\\\\n",
    "    1/6 & 1/2 & 1/3\n",
    "    \\end{bmatrix}\n",
    "\\end{align*}\n",
    "\n",
    "Phân phối dừng $\\pi$ phải thỏa mãn 2 điều kiện là:\n",
    "\\begin{align*}\n",
    "    \\begin{cases}\n",
    "    \\pi \\mathbb{P} = \\pi \\\\\n",
    "    \\sum_i \\pi_i = 1\n",
    "    \\end{cases}\n",
    "\\end{align*}\n",
    "\n",
    "Xét điều kiện đầu tiên: $\\pi \\mathbb{P} = \\pi$  \n",
    "Giải hệ phương trình tuyến tính ta được:  \n",
    "\n",
    "\\begin{align*}\n",
    "\\pi ^T = \n",
    "    \\begin{bmatrix}\n",
    "    5/14 \\\\\n",
    "    3/7 \\\\\n",
    "    3/14\n",
    "    \\end{bmatrix}\n",
    "\\end{align*}\n",
    "\n",
    "Ta thấy $\\pi$ thoả mãn điều kiện thứ 2, suy ra $\\pi = (\\frac{5}{14},\\frac{3}{7},\\frac{3}{14})$ là phân phối dừng của ma trận chuyển $\\mathbb{P}$  \n",
    "\n",
    "#### Câu 2:\n",
    "\\begin{align*}\n",
    "\\mathbb{P} = \n",
    "    \\begin{bmatrix}\n",
    "    0 & 0 & 0.23 & 0 & 0 & 0 & 0.77 \\\\\n",
    "    0 & 0.89 & 0 & 0 & 0.11 & 0 & 0 \\\\\n",
    "    0 & 0 & 0.8 & 0 & 0 & 0.2 & 0 \\\\\n",
    "    0 & 0.3 & 0.4 & 0.3 & 0 & 0 & 0 \\\\\n",
    "    0 & 0.5 & 0 & 0 & 0.2 & 0 & 0.3 \\\\\n",
    "    0 & 0 & 0.23 & 0 & 0 & 0.77 & 0 \\\\\n",
    "    0 & 0.5 & 0 & 0 & 0 & 0 & 0.5 \\\\\n",
    "    \\end{bmatrix}\n",
    "\\end{align*}\n",
    "\n",
    "*(a)*  \n",
    "![ex2_3](graph.png)\n",
    "\n",
    "Từ đồ thị ta có thể chia thành các phân lớp là $\\{0\\},\\{3\\},\\{2,5\\},\\{1,4,6\\}$  \n",
    "\n",
    "*(b)*  \n",
    "Dễ dàng thấy $d(0) = d(3) = 1$  \n",
    "\n",
    "Xét phân lớp $\\{2,5\\}$ có $P_22 > 0$ và $P_22^{(2)} > 0$ nên $d(2) = d(5) = 1$\n",
    "\n",
    "Tương tự với phân lớp $\\{1,4,6\\}$ ta được $d(1) = d(4) = d(6) = 1$\n",
    "#### Câu 3:\n",
    "\\begin{align*}\n",
    "\\mathbb{P} = \n",
    "    \\begin{bmatrix}\n",
    "    0.22 & 0.26 & 0.26 & 0.26 \\\\\n",
    "    89/300 & 0.11 & 89/300 & 89/300 \\\\\n",
    "    67/300 & 67/300 & 0.33 & 67/300 \\\\\n",
    "    0.22 & 0.22 & 0.22 & 0.34\n",
    "    \\end{bmatrix}\n",
    "    ; \\space\n",
    "\\lambda = \n",
    "    \\begin{bmatrix}\n",
    "    0.1 \\\\\n",
    "    0.3 \\\\\n",
    "    0.4 \\\\\n",
    "    0.2\n",
    "    \\end{bmatrix}\n",
    "\\end{align*}\n",
    "\n",
    "*(a)*  \n",
    "Phân phối thị phần của tháng tiếp theo được tính theo công thức:\n",
    "\n",
    "\\begin{align*}\n",
    "\\lambda^{(1)} = \\lambda \\mathbb{P} = (\\frac{733}{3000},\\frac{577}{3000},\\frac{291}{1000},\\frac{817}{3000})\n",
    "\\end{align*}\n",
    "\n",
    "*(b)*  \n",
    "Tìm phân phối dừng, trước tiên ta giải hệ phương trình tuyến tính $\\pi \\mathbb{P} = \\pi$   \n",
    "\n",
    "Ta được $\\pi = (0.23683203, 0.20756066, 0.2757149 , 0.2798924)$  thỏa mãn điều kiện thứ hai  \n",
    "\n",
    "Suy ra $\\pi = (0.23683203, 0.20756066, 0.2757149 , 0.2798924)$ là phân phối dừng  \n",
    "\n",
    "#### Câu 4:"
   ]
  },
  {
   "cell_type": "code",
   "execution_count": 77,
   "metadata": {},
   "outputs": [],
   "source": [
    "import numpy as np\n",
    "import math\n",
    "\n",
    "def period_i(i,P,):\n",
    "    d = []\n",
    "    for k in range(1,100):\n",
    "        P = P.dot(P)\n",
    "        if (P[i,i]):\n",
    "            d.append(k)\n",
    "    return math.gcd(d)"
   ]
  },
  {
   "cell_type": "markdown",
   "metadata": {},
   "source": [
    "#### Câu 5:"
   ]
  },
  {
   "cell_type": "code",
   "execution_count": 98,
   "metadata": {},
   "outputs": [],
   "source": [
    "def computePi(P):\n",
    "    if P.shape == (1,1):\n",
    "        return 1\n",
    "    \n",
    "    size = P.shape[0]\n",
    "    dP = P.T - np.identity(size)\n",
    "    A = np.append(dP,np.ones(size)).reshape(size+1,size)\n",
    "    b = np.append(np.zeros(size),1)\n",
    "    \n",
    "    return np.linalg.solve(A.T.dot(A),A.T.dot(b))"
   ]
  },
  {
   "cell_type": "code",
   "execution_count": 13,
   "metadata": {},
   "outputs": [],
   "source": [
    "import numpy as np\n",
    "\n",
    "P = np.array([[0.2,0.7,0.1],\n",
    "             [0.4,0.5,0.1],\n",
    "             [0.2,0.8,0]])"
   ]
  },
  {
   "cell_type": "code",
   "execution_count": 14,
   "metadata": {},
   "outputs": [
    {
     "data": {
      "text/plain": [
       "array([[-0.8,  0.4,  0.2],\n",
       "       [ 0.7, -0.5,  0.8],\n",
       "       [ 0.1,  0.1, -1. ]])"
      ]
     },
     "execution_count": 14,
     "metadata": {},
     "output_type": "execute_result"
    }
   ],
   "source": [
    "PI = np.transpose(P-np.eye(len(P)))\n",
    "PI"
   ]
  },
  {
   "cell_type": "code",
   "execution_count": 15,
   "metadata": {},
   "outputs": [],
   "source": [
    "C = []\n",
    "for i in range(len(P)-1):\n",
    "    C = np.r_[C,PI[i,:]]\n"
   ]
  },
  {
   "cell_type": "code",
   "execution_count": 16,
   "metadata": {},
   "outputs": [
    {
     "data": {
      "text/plain": [
       "array([-0.8,  0.4,  0.2,  0.7, -0.5,  0.8])"
      ]
     },
     "execution_count": 16,
     "metadata": {},
     "output_type": "execute_result"
    }
   ],
   "source": [
    "C"
   ]
  },
  {
   "cell_type": "code",
   "execution_count": 8,
   "metadata": {},
   "outputs": [
    {
     "data": {
      "text/plain": [
       "array([-0.8,  0.4,  0.2,  0.7, -0.5,  0.8,  1. ,  1. ,  1. ])"
      ]
     },
     "execution_count": 8,
     "metadata": {},
     "output_type": "execute_result"
    }
   ],
   "source": [
    "C=np.r_[C,np.zeros(len(P))+1]\n",
    "D=C.reshape(3,3)"
   ]
  },
  {
   "cell_type": "code",
   "execution_count": 11,
   "metadata": {},
   "outputs": [
    {
     "data": {
      "text/plain": [
       "\u001b[0;31mType:\u001b[0m        RClass\n",
       "\u001b[0;31mString form:\u001b[0m <numpy.lib.index_tricks.RClass object at 0x7f75845ad210>\n",
       "\u001b[0;31mLength:\u001b[0m      0\n",
       "\u001b[0;31mFile:\u001b[0m        ~/anaconda3/lib/python3.7/site-packages/numpy/lib/index_tricks.py\n",
       "\u001b[0;31mDocstring:\u001b[0m  \n",
       "Translates slice objects to concatenation along the first axis.\n",
       "\n",
       "This is a simple way to build up arrays quickly. There are two use cases.\n",
       "\n",
       "1. If the index expression contains comma separated arrays, then stack\n",
       "   them along their first axis.\n",
       "2. If the index expression contains slice notation or scalars then create\n",
       "   a 1-D array with a range indicated by the slice notation.\n",
       "\n",
       "If slice notation is used, the syntax ``start:stop:step`` is equivalent\n",
       "to ``np.arange(start, stop, step)`` inside of the brackets. However, if\n",
       "``step`` is an imaginary number (i.e. 100j) then its integer portion is\n",
       "interpreted as a number-of-points desired and the start and stop are\n",
       "inclusive. In other words ``start:stop:stepj`` is interpreted as\n",
       "``np.linspace(start, stop, step, endpoint=1)`` inside of the brackets.\n",
       "After expansion of slice notation, all comma separated sequences are\n",
       "concatenated together.\n",
       "\n",
       "Optional character strings placed as the first element of the index\n",
       "expression can be used to change the output. The strings 'r' or 'c' result\n",
       "in matrix output. If the result is 1-D and 'r' is specified a 1 x N (row)\n",
       "matrix is produced. If the result is 1-D and 'c' is specified, then a N x 1\n",
       "(column) matrix is produced. If the result is 2-D then both provide the\n",
       "same matrix result.\n",
       "\n",
       "A string integer specifies which axis to stack multiple comma separated\n",
       "arrays along. A string of two comma-separated integers allows indication\n",
       "of the minimum number of dimensions to force each entry into as the\n",
       "second integer (the axis to concatenate along is still the first integer).\n",
       "\n",
       "A string with three comma-separated integers allows specification of the\n",
       "axis to concatenate along, the minimum number of dimensions to force the\n",
       "entries to, and which axis should contain the start of the arrays which\n",
       "are less than the specified number of dimensions. In other words the third\n",
       "integer allows you to specify where the 1's should be placed in the shape\n",
       "of the arrays that have their shapes upgraded. By default, they are placed\n",
       "in the front of the shape tuple. The third argument allows you to specify\n",
       "where the start of the array should be instead. Thus, a third argument of\n",
       "'0' would place the 1's at the end of the array shape. Negative integers\n",
       "specify where in the new shape tuple the last dimension of upgraded arrays\n",
       "should be placed, so the default is '-1'.\n",
       "\n",
       "Parameters\n",
       "----------\n",
       "Not a function, so takes no parameters\n",
       "\n",
       "\n",
       "Returns\n",
       "-------\n",
       "A concatenated ndarray or matrix.\n",
       "\n",
       "See Also\n",
       "--------\n",
       "concatenate : Join a sequence of arrays along an existing axis.\n",
       "c_ : Translates slice objects to concatenation along the second axis.\n",
       "\n",
       "Examples\n",
       "--------\n",
       ">>> np.r_[np.array([1,2,3]), 0, 0, np.array([4,5,6])]\n",
       "array([1, 2, 3, ..., 4, 5, 6])\n",
       ">>> np.r_[-1:1:6j, [0]*3, 5, 6]\n",
       "array([-1. , -0.6, -0.2,  0.2,  0.6,  1. ,  0. ,  0. ,  0. ,  5. ,  6. ])\n",
       "\n",
       "String integers specify the axis to concatenate along or the minimum\n",
       "number of dimensions to force entries into.\n",
       "\n",
       ">>> a = np.array([[0, 1, 2], [3, 4, 5]])\n",
       ">>> np.r_['-1', a, a] # concatenate along last axis\n",
       "array([[0, 1, 2, 0, 1, 2],\n",
       "       [3, 4, 5, 3, 4, 5]])\n",
       ">>> np.r_['0,2', [1,2,3], [4,5,6]] # concatenate along first axis, dim>=2\n",
       "array([[1, 2, 3],\n",
       "       [4, 5, 6]])\n",
       "\n",
       ">>> np.r_['0,2,0', [1,2,3], [4,5,6]]\n",
       "array([[1],\n",
       "       [2],\n",
       "       [3],\n",
       "       [4],\n",
       "       [5],\n",
       "       [6]])\n",
       ">>> np.r_['1,2,0', [1,2,3], [4,5,6]]\n",
       "array([[1, 4],\n",
       "       [2, 5],\n",
       "       [3, 6]])\n",
       "\n",
       "Using 'r' or 'c' as a first string argument creates a matrix.\n",
       "\n",
       ">>> np.r_['r',[1,2,3], [4,5,6]]\n",
       "matrix([[1, 2, 3, 4, 5, 6]])\n"
      ]
     },
     "metadata": {},
     "output_type": "display_data"
    }
   ],
   "source": [
    "np.r_?"
   ]
  },
  {
   "cell_type": "code",
   "execution_count": 12,
   "metadata": {},
   "outputs": [
    {
     "data": {
      "text/plain": [
       "array([1, 2, 3, 0, 0, 4, 5, 6])"
      ]
     },
     "execution_count": 12,
     "metadata": {},
     "output_type": "execute_result"
    }
   ],
   "source": [
    "np.r_[np.array([1,2,3]), 0, 0, np.array([4,5,6])]"
   ]
  },
  {
   "cell_type": "code",
   "execution_count": null,
   "metadata": {},
   "outputs": [],
   "source": []
  }
 ],
 "metadata": {
  "kernelspec": {
   "display_name": "Python 3",
   "language": "python",
   "name": "python3"
  },
  "language_info": {
   "codemirror_mode": {
    "name": "ipython",
    "version": 3
   },
   "file_extension": ".py",
   "mimetype": "text/x-python",
   "name": "python",
   "nbconvert_exporter": "python",
   "pygments_lexer": "ipython3",
   "version": "3.7.6"
  }
 },
 "nbformat": 4,
 "nbformat_minor": 4
}
